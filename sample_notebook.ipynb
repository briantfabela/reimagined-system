{
 "cells": [
  {
   "cell_type": "code",
   "execution_count": 2,
   "metadata": {},
   "outputs": [],
   "source": [
    "import numpy as np\n",
    "import pandas as pd\n",
    "import matplotlib.pyplot as plt\n",
    "\n",
    "from datafuncs import *"
   ]
  },
  {
   "cell_type": "code",
   "execution_count": 9,
   "metadata": {},
   "outputs": [],
   "source": [
    "lka_co2 = quandl_data('BP/C02_EMMISSIONS_LKA', column_index='1', returns='numpy')"
   ]
  },
  {
   "cell_type": "code",
   "execution_count": 17,
   "metadata": {},
   "outputs": [
    {
     "data": {
      "text/plain": [
       "rec.array([('1965-12-31T00:00:00.000000000',  1.45505952),\n",
       "           ('1966-12-31T00:00:00.000000000',  1.49016857),\n",
       "           ('1967-12-31T00:00:00.000000000',  1.52625384),\n",
       "           ('1968-12-31T00:00:00.000000000',  1.56276538),\n",
       "           ('1969-12-31T00:00:00.000000000',  1.59896804),\n",
       "           ('1970-12-31T00:00:00.000000000',  3.0932588 ),\n",
       "           ('1971-12-31T00:00:00.000000000',  2.86676553),\n",
       "           ('1972-12-31T00:00:00.000000000',  3.06571715),\n",
       "           ('1973-12-31T00:00:00.000000000',  3.21011139),\n",
       "           ('1974-12-31T00:00:00.000000000',  2.54703065),\n",
       "           ('1975-12-31T00:00:00.000000000',  2.45941938),\n",
       "           ('1976-12-31T00:00:00.000000000',  2.42689844),\n",
       "           ('1977-12-31T00:00:00.000000000',  2.59069925),\n",
       "           ('1978-12-31T00:00:00.000000000',  3.02212459),\n",
       "           ('1979-12-31T00:00:00.000000000',  3.11605232),\n",
       "           ('1980-12-31T00:00:00.000000000',  3.1949781 ),\n",
       "           ('1981-12-31T00:00:00.000000000',  3.76368799),\n",
       "           ('1982-12-31T00:00:00.000000000',  4.27594605),\n",
       "           ('1983-12-31T00:00:00.000000000',  4.66795582),\n",
       "           ('1984-12-31T00:00:00.000000000',  3.96370064),\n",
       "           ('1985-12-31T00:00:00.000000000',  3.57475122),\n",
       "           ('1986-12-31T00:00:00.000000000',  3.49119921),\n",
       "           ('1987-12-31T00:00:00.000000000',  4.0282598 ),\n",
       "           ('1988-12-31T00:00:00.000000000',  3.89182417),\n",
       "           ('1989-12-31T00:00:00.000000000',  3.6716151 ),\n",
       "           ('1990-12-31T00:00:00.000000000',  3.91712072),\n",
       "           ('1991-12-31T00:00:00.000000000',  4.14668344),\n",
       "           ('1992-12-31T00:00:00.000000000',  4.92108019),\n",
       "           ('1993-12-31T00:00:00.000000000',  4.72838232),\n",
       "           ('1994-12-31T00:00:00.000000000',  5.23752617),\n",
       "           ('1995-12-31T00:00:00.000000000',  5.68844464),\n",
       "           ('1996-12-31T00:00:00.000000000',  6.99067111),\n",
       "           ('1997-12-31T00:00:00.000000000',  7.63865988),\n",
       "           ('1998-12-31T00:00:00.000000000',  8.13092879),\n",
       "           ('1999-12-31T00:00:00.000000000',  8.88589268),\n",
       "           ('2000-12-31T00:00:00.000000000', 10.567441  ),\n",
       "           ('2001-12-31T00:00:00.000000000', 10.43014684),\n",
       "           ('2002-12-31T00:00:00.000000000', 11.07516266),\n",
       "           ('2003-12-31T00:00:00.000000000', 11.14943346),\n",
       "           ('2004-12-31T00:00:00.000000000', 10.90379901),\n",
       "           ('2005-12-31T00:00:00.000000000', 12.56195221),\n",
       "           ('2006-12-31T00:00:00.000000000', 12.99689781),\n",
       "           ('2007-12-31T00:00:00.000000000', 13.81393899),\n",
       "           ('2008-12-31T00:00:00.000000000', 12.57527859),\n",
       "           ('2009-12-31T00:00:00.000000000', 13.23418774),\n",
       "           ('2010-12-31T00:00:00.000000000', 13.14707926),\n",
       "           ('2011-12-31T00:00:00.000000000', 14.82352773),\n",
       "           ('2012-12-31T00:00:00.000000000', 16.11551301),\n",
       "           ('2013-12-31T00:00:00.000000000', 13.89128076),\n",
       "           ('2014-12-31T00:00:00.000000000', 16.89288212),\n",
       "           ('2015-12-31T00:00:00.000000000', 19.18774797),\n",
       "           ('2016-12-31T00:00:00.000000000', 20.20166357),\n",
       "           ('2017-12-31T00:00:00.000000000', 21.37953979)],\n",
       "          dtype=[('Date', '<M8[ns]'), ('Value', '<f8')])"
      ]
     },
     "execution_count": 17,
     "metadata": {},
     "output_type": "execute_result"
    }
   ],
   "source": [
    "# when working with numpy data, we get tuples. we need to unpack that so that matplotlib\n",
    "# can get ingest it for plotting\n",
    "\n",
    "''' data looks like this:\n",
    "\n",
    "    [('1965-12-31T00:00:00.000000000',  1.45505952), # we need to unpack these tuples\n",
    "     ...                                             # into independent records\n",
    "     ('1967-12-31T00:00:00.000000000',  1.52625384)] \n",
    "'''"
   ]
  },
  {
   "cell_type": "code",
   "execution_count": 13,
   "metadata": {},
   "outputs": [],
   "source": [
    "# plt.plot(lka_co2.data)\n",
    "# plt.show()"
   ]
  },
  {
   "cell_type": "code",
   "execution_count": 18,
   "metadata": {},
   "outputs": [
    {
     "data": {
      "image/png": "[encoded data removed]",
      "text/plain": [
       "<Figure size 432x288 with 1 Axes>"
      ]
     },
     "metadata": {
      "needs_background": "light"
     },
     "output_type": "display_data"
    }
   ],
   "source": [
    "plt.plot(np.array([5,10,12,10,9,15,25]))\n",
    "plt.show()"
   ]
  },
  {
   "cell_type": "code",
   "execution_count": 25,
   "metadata": {},
   "outputs": [],
   "source": [
    "x = np.array([[5,'jan'],[10,'feb'], [12,'mar'], [10,'apr'], [9,'may'], [15, 'jun'], [25,'jul']])"
   ]
  },
  {
   "cell_type": "code",
   "execution_count": 26,
   "metadata": {},
   "outputs": [
    {
     "ename": "TypeError",
     "evalue": "ufunc 'multiply' did not contain a loop with signature matching types dtype('<U11') dtype('<U11') dtype('<U11')",
     "output_type": "error",
     "traceback": [
      "\u001b[1;31m---------------------------------------------------------------------------\u001b[0m",
      "\u001b[1;31mTypeError\u001b[0m                                 Traceback (most recent call last)",
      "\u001b[1;32m<ipython-input-26-e584cff3175e>\u001b[0m in \u001b[0;36m<module>\u001b[1;34m\u001b[0m\n\u001b[1;32m----> 1\u001b[1;33m \u001b[0mx\u001b[0m \u001b[1;33m*\u001b[0m \u001b[1;36m5\u001b[0m\u001b[1;33m\u001b[0m\u001b[1;33m\u001b[0m\u001b[0m\n\u001b[0m",
      "\u001b[1;31mTypeError\u001b[0m: ufunc 'multiply' did not contain a loop with signature matching types dtype('<U11') dtype('<U11') dtype('<U11')"
     ]
    }
   ],
   "source": []
  },
  {
   "cell_type": "code",
   "execution_count": null,
   "metadata": {},
   "outputs": [],
   "source": []
  }
 ],
 "metadata": {
  "kernelspec": {
   "display_name": "Python 3",
   "language": "python",
   "name": "python3"
  },
  "language_info": {
   "codemirror_mode": {
    "name": "ipython",
    "version": 3
   },
   "file_extension": ".py",
   "mimetype": "text/x-python",
   "name": "python",
   "nbconvert_exporter": "python",
   "pygments_lexer": "ipython3",
   "version": "3.7.3"
  }
 },
 "nbformat": 4,
 "nbformat_minor": 2
}
